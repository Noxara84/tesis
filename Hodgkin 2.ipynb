{
 "cells": [
  {
   "cell_type": "code",
   "execution_count": 2,
   "id": "0e3497b1",
   "metadata": {},
   "outputs": [
    {
     "name": "stderr",
     "output_type": "stream",
     "text": [
      "<frozen importlib._bootstrap>:228: RuntimeWarning: compiletime version 3.8 of module 'pynestkernel' does not match runtime version 3.9\n"
     ]
    },
    {
     "name": "stdout",
     "output_type": "stream",
     "text": [
      "\n",
      "              -- N E S T --\n",
      "  Copyright (C) 2004 The NEST Initiative\n",
      "\n",
      " Version: nest-3.0\n",
      " Built: Aug 27 2021 11:09:20\n",
      "\n",
      " This program is provided AS IS and comes with\n",
      " NO WARRANTY. See the file LICENSE for details.\n",
      "\n",
      " Problems or suggestions?\n",
      "   Visit https://www.nest-simulator.org\n",
      "\n",
      " Type 'nest.help()' to find out more about NEST.\n",
      "\n"
     ]
    }
   ],
   "source": [
    "import matplotlib.pyplot as plt\n",
    "import nest\n",
    "neuron = nest.Create(\"iaf_psc_alpha\")\n",
    "neuron2 = nest.Create(\"hh_psc_alpha\")"
   ]
  },
  {
   "cell_type": "code",
   "execution_count": 3,
   "id": "0193f9a2",
   "metadata": {},
   "outputs": [
    {
     "data": {
      "text/plain": [
       "{'Act_m': 0.05293248525724958,\n",
       " 'Act_n': 0.3176769140606974,\n",
       " 'archiver_length': 0,\n",
       " 'beta_Ca': 0.001,\n",
       " 'C_m': 100.0,\n",
       " 'Ca': 0.0,\n",
       " 'E_K': -77.0,\n",
       " 'E_L': -54.402,\n",
       " 'E_Na': 50.0,\n",
       " 'element_type': 'neuron',\n",
       " 'frozen': False,\n",
       " 'g_K': 3600.0,\n",
       " 'g_L': 30.0,\n",
       " 'g_Na': 12000.0,\n",
       " 'global_id': 2,\n",
       " 'I_e': 0.0,\n",
       " 'Inact_h': 0.5961207535084603,\n",
       " 'local': True,\n",
       " 'model': 'hh_psc_alpha',\n",
       " 'node_uses_wfr': False,\n",
       " 'post_trace': 0.0,\n",
       " 'recordables': ('Act_m', 'Act_n', 'I_syn_ex', 'I_syn_in', 'Inact_h', 'V_m'),\n",
       " 'synaptic_elements': {},\n",
       " 't_ref': 2.0,\n",
       " 't_spike': -1.0,\n",
       " 'tau_Ca': 10000.0,\n",
       " 'tau_minus': 20.0,\n",
       " 'tau_minus_triplet': 110.0,\n",
       " 'tau_syn_ex': 0.2,\n",
       " 'tau_syn_in': 2.0,\n",
       " 'thread': 0,\n",
       " 'thread_local_id': -1,\n",
       " 'V_m': -65.0,\n",
       " 'vp': 0}"
      ]
     },
     "execution_count": 3,
     "metadata": {},
     "output_type": "execute_result"
    }
   ],
   "source": [
    "neuron2.get()"
   ]
  },
  {
   "cell_type": "code",
   "execution_count": 6,
   "id": "2f341f82",
   "metadata": {},
   "outputs": [],
   "source": [
    "neuron.V_th = -23.0"
   ]
  },
  {
   "cell_type": "code",
   "execution_count": 35,
   "id": "9d1f01e0",
   "metadata": {},
   "outputs": [
    {
     "data": {
      "text/plain": [
       "{'archiver_length': 0,\n",
       " 'beta_Ca': 0.001,\n",
       " 'C_m': 250.0,\n",
       " 'Ca': 0.0,\n",
       " 'E_L': -70.0,\n",
       " 'element_type': 'neuron',\n",
       " 'frozen': False,\n",
       " 'global_id': 1,\n",
       " 'I_e': 100.0,\n",
       " 'local': True,\n",
       " 'model': 'iaf_psc_alpha',\n",
       " 'node_uses_wfr': False,\n",
       " 'post_trace': 0.0,\n",
       " 'recordables': ('I_syn_ex',\n",
       "  'I_syn_in',\n",
       "  'V_m',\n",
       "  'weighted_spikes_ex',\n",
       "  'weighted_spikes_in'),\n",
       " 'synaptic_elements': {},\n",
       " 't_ref': 2.0,\n",
       " 't_spike': -1.0,\n",
       " 'tau_Ca': 10000.0,\n",
       " 'tau_m': 10.0,\n",
       " 'tau_minus': 20.0,\n",
       " 'tau_minus_triplet': 110.0,\n",
       " 'tau_syn_ex': 2.0,\n",
       " 'tau_syn_in': 2.0,\n",
       " 'thread': 0,\n",
       " 'thread_local_id': 0,\n",
       " 'V_m': -66.00000000000003,\n",
       " 'V_min': -inf,\n",
       " 'V_reset': -70.0,\n",
       " 'V_th': -23.0,\n",
       " 'vp': 0}"
      ]
     },
     "execution_count": 35,
     "metadata": {},
     "output_type": "execute_result"
    }
   ],
   "source": [
    "neuron.get()"
   ]
  },
  {
   "cell_type": "code",
   "execution_count": 50,
   "id": "d9494a92",
   "metadata": {},
   "outputs": [],
   "source": [
    "neuron.I_e = 5000.0"
   ]
  },
  {
   "cell_type": "code",
   "execution_count": 51,
   "id": "e05c303c",
   "metadata": {},
   "outputs": [],
   "source": [
    "multimeter = nest.Create(\"multimeter\")\n",
    "multimeter.set(record_from=[\"V_m\"])"
   ]
  },
  {
   "cell_type": "code",
   "execution_count": 52,
   "id": "3e0a1c05",
   "metadata": {},
   "outputs": [],
   "source": [
    "spikerecorder = nest.Create(\"spike_recorder\")"
   ]
  },
  {
   "cell_type": "code",
   "execution_count": 53,
   "id": "a7602036",
   "metadata": {},
   "outputs": [],
   "source": [
    "nest.Connect(multimeter, neuron)\n",
    "nest.Connect(neuron, spikerecorder)"
   ]
  },
  {
   "cell_type": "code",
   "execution_count": 54,
   "id": "16d0b2f7",
   "metadata": {},
   "outputs": [
    {
     "name": "stdout",
     "output_type": "stream",
     "text": [
      "\n",
      "Oct 28 16:20:43 NodeManager::prepare_nodes [Info]: \n",
      "    Preparing 18 nodes for simulation.\n",
      "\n",
      "Oct 28 16:20:43 SimulationManager::start_updating_ [Info]: \n",
      "    Number of local nodes: 18\n",
      "    Simulation time (ms): 1000\n",
      "    Number of OpenMP threads: 1\n",
      "    Number of MPI processes: 1\n",
      "\n",
      "Oct 28 16:20:43 SimulationManager::run [Info]: \n",
      "    Simulation finished.\n"
     ]
    }
   ],
   "source": [
    "nest.Simulate(1000.0)"
   ]
  },
  {
   "cell_type": "code",
   "execution_count": 55,
   "id": "8467369d",
   "metadata": {},
   "outputs": [],
   "source": [
    "dmm = multimeter.get()\n",
    "Vms = dmm[\"events\"][\"V_m\"]\n",
    "ts = dmm[\"events\"][\"times\"]"
   ]
  },
  {
   "cell_type": "code",
   "execution_count": 56,
   "id": "6ce199fc",
   "metadata": {},
   "outputs": [
    {
     "data": {
      "text/plain": [
       "[<matplotlib.lines.Line2D at 0x7fdca40326a0>]"
      ]
     },
     "execution_count": 56,
     "metadata": {},
     "output_type": "execute_result"
    },
    {
     "data": {
      "image/png": "[encoded data removed]",
      "text/plain": [
       "<Figure size 432x288 with 1 Axes>"
      ]
     },
     "metadata": {
      "needs_background": "light"
     },
     "output_type": "display_data"
    }
   ],
   "source": [
    "import matplotlib.pyplot as plt\n",
    "plt.figure(1)\n",
    "plt.plot(ts, Vms)"
   ]
  },
  {
   "cell_type": "code",
   "execution_count": 9,
   "id": "8bc74093",
   "metadata": {},
   "outputs": [
    {
     "data": {
      "image/png": "[encoded data removed]",
      "text/plain": [
       "<Figure size 432x288 with 1 Axes>"
      ]
     },
     "metadata": {
      "needs_background": "light"
     },
     "output_type": "display_data"
    }
   ],
   "source": [
    "dSD = spikerecorder.get(\"events\")\n",
    "evs = dSD[\"senders\"]\n",
    "ts = dSD[\"times\"]\n",
    "plt.figure(2)\n",
    "plt.plot(ts, evs, \".\")\n",
    "plt.show()"
   ]
  }
 ],
 "metadata": {
  "kernelspec": {
   "display_name": "Python 3",
   "language": "python",
   "name": "python3"
  },
  "language_info": {
   "codemirror_mode": {
    "name": "ipython",
    "version": 3
   },
   "file_extension": ".py",
   "mimetype": "text/x-python",
   "name": "python",
   "nbconvert_exporter": "python",
   "pygments_lexer": "ipython3",
   "version": "3.9.7"
  }
 },
 "nbformat": 4,
 "nbformat_minor": 5
}
