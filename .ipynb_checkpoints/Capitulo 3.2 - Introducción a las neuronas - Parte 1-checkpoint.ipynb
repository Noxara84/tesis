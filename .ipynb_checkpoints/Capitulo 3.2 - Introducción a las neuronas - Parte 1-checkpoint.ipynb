{
 "cells": [
  {
   "cell_type": "code",
   "execution_count": 59,
   "id": "03ccab68",
   "metadata": {},
   "outputs": [],
   "source": [
    "import matplotlib.pyplot as plt\n",
    "import nest\n",
    "import numpy\n",
    "import matplotlib.pyplot as plt\n",
    "neuron = nest.Create(\"iaf_psc_alpha\",2)"
   ]
  },
  {
   "cell_type": "code",
   "execution_count": 31,
   "id": "5a13c947",
   "metadata": {},
   "outputs": [],
   "source": [
    "ndict = {\"I_e\": 200.0, \"tau_m\": 20.0}\n",
    "neuronpop = nest.Create(\"iaf_psc_alpha\", 3, params=ndict)"
   ]
  },
  {
   "cell_type": "code",
   "execution_count": 32,
   "id": "709bb9fb",
   "metadata": {},
   "outputs": [
    {
     "data": {
      "text/plain": [
       "{'archiver_length': (0, 0, 0),\n",
       " 'beta_Ca': (0.001, 0.001, 0.001),\n",
       " 'C_m': (250.0, 250.0, 250.0),\n",
       " 'Ca': (0.0, 0.0, 0.0),\n",
       " 'E_L': (-70.0, -70.0, -70.0),\n",
       " 'element_type': ('neuron', 'neuron', 'neuron'),\n",
       " 'frozen': (False, False, False),\n",
       " 'global_id': (800, 801, 802),\n",
       " 'I_e': (200.0, 200.0, 200.0),\n",
       " 'local': (True, True, True),\n",
       " 'model': ('iaf_psc_alpha', 'iaf_psc_alpha', 'iaf_psc_alpha'),\n",
       " 'node_uses_wfr': (False, False, False),\n",
       " 'post_trace': (0.0, 0.0, 0.0),\n",
       " 'recordables': (('I_syn_ex', 'I_syn_in', 'V_m'),\n",
       "  ('I_syn_ex', 'I_syn_in', 'V_m'),\n",
       "  ('I_syn_ex', 'I_syn_in', 'V_m')),\n",
       " 'synaptic_elements': ({}, {}, {}),\n",
       " 't_ref': (2.0, 2.0, 2.0),\n",
       " 't_spike': (-1.0, -1.0, -1.0),\n",
       " 'tau_Ca': (10000.0, 10000.0, 10000.0),\n",
       " 'tau_m': (20.0, 20.0, 20.0),\n",
       " 'tau_minus': (20.0, 20.0, 20.0),\n",
       " 'tau_minus_triplet': (110.0, 110.0, 110.0),\n",
       " 'tau_syn_ex': (2.0, 2.0, 2.0),\n",
       " 'tau_syn_in': (2.0, 2.0, 2.0),\n",
       " 'thread': (0, 0, 0),\n",
       " 'thread_local_id': (-1, -1, -1),\n",
       " 'V_m': (-70.0, -70.0, -70.0),\n",
       " 'V_min': (-inf, -inf, -inf),\n",
       " 'V_reset': (-70.0, -70.0, -70.0),\n",
       " 'V_th': (-55.0, -55.0, -55.0),\n",
       " 'vp': (0, 0, 0)}"
      ]
     },
     "execution_count": 32,
     "metadata": {},
     "output_type": "execute_result"
    }
   ],
   "source": [
    "neuronpop.get()"
   ]
  },
  {
   "cell_type": "code",
   "execution_count": 34,
   "id": "2b024064",
   "metadata": {},
   "outputs": [],
   "source": [
    "neuronpop.set({\"I_e\":[100,200,300]})"
   ]
  },
  {
   "cell_type": "code",
   "execution_count": 36,
   "id": "d017bdef",
   "metadata": {},
   "outputs": [
    {
     "data": {
      "text/plain": [
       "(100.0, 200.0, 300.0)"
      ]
     },
     "execution_count": 36,
     "metadata": {},
     "output_type": "execute_result"
    }
   ],
   "source": [
    "neuronpop.get(\"I_e\")"
   ]
  },
  {
   "cell_type": "code",
   "execution_count": 53,
   "id": "6ead26e1",
   "metadata": {},
   "outputs": [],
   "source": [
    "multimeter = nest.Create(\"multimeter\",3)\n",
    "multimeter.set(record_from=[\"V_m\"])"
   ]
  },
  {
   "cell_type": "code",
   "execution_count": 54,
   "id": "705ce8ef",
   "metadata": {},
   "outputs": [],
   "source": [
    "nest.Connect(multimeter,neuronpop)"
   ]
  },
  {
   "cell_type": "code",
   "execution_count": 55,
   "id": "a3b875a3",
   "metadata": {},
   "outputs": [
    {
     "name": "stdout",
     "output_type": "stream",
     "text": [
      "\n",
      "Mar 21 00:57:48 NodeManager::prepare_nodes [Info]: \n",
      "    Preparing 807 nodes for simulation.\n",
      "\n",
      "Mar 21 00:57:48 SimulationManager::start_updating_ [Info]: \n",
      "    Number of local nodes: 807\n",
      "    Simulation time (ms): 100\n",
      "    Number of OpenMP threads: 1\n",
      "    Number of MPI processes: 1\n",
      "\n",
      "Mar 21 00:57:48 SimulationManager::run [Info]: \n",
      "    Simulation finished.\n"
     ]
    }
   ],
   "source": [
    "nest.Simulate(100)"
   ]
  },
  {
   "cell_type": "code",
   "execution_count": 65,
   "id": "d54e44e4",
   "metadata": {},
   "outputs": [
    {
     "data": {
      "text/plain": [
       "{'senders': array([800, 801, 802, 800, 801, 802, 800, 801, 802, 800, 801, 802, 800,\n",
       "        801, 802, 800, 801, 802, 800, 801, 802, 800, 801, 802, 800, 801,\n",
       "        802, 800, 801, 802, 800, 801, 802, 800, 801, 802, 800, 801, 802,\n",
       "        800, 801, 802, 800, 801, 802, 800, 801, 802, 800, 801, 802, 800,\n",
       "        801, 802, 800, 801, 802, 800, 801, 802, 800, 801, 802, 800, 801,\n",
       "        802, 800, 801, 802, 800, 801, 802, 800, 801, 802, 800, 801, 802,\n",
       "        800, 801, 802, 800, 801, 802, 800, 801, 802, 800, 801, 802, 800,\n",
       "        801, 802, 800, 801, 802, 800, 801, 802, 800, 801, 802, 800, 801,\n",
       "        802, 800, 801, 802, 800, 801, 802, 800, 801, 802, 800, 801, 802,\n",
       "        800, 801, 802, 800, 801, 802, 800, 801, 802, 800, 801, 802, 800,\n",
       "        801, 802, 800, 801, 802, 800, 801, 802, 800, 801, 802, 800, 801,\n",
       "        802, 800, 801, 802, 800, 801, 802, 800, 801, 802, 800, 801, 802,\n",
       "        800, 801, 802, 800, 801, 802, 800, 801, 802, 800, 801, 802, 800,\n",
       "        801, 802, 800, 801, 802, 800, 801, 802, 800, 801, 802, 800, 801,\n",
       "        802, 800, 801, 802, 800, 801, 802, 800, 801, 802, 800, 801, 802,\n",
       "        800, 801, 802, 800, 801, 802, 800, 801, 802, 800, 801, 802, 800,\n",
       "        801, 802, 800, 801, 802, 800, 801, 802, 800, 801, 802, 800, 801,\n",
       "        802, 800, 801, 802, 800, 801, 802, 800, 801, 802, 800, 801, 802,\n",
       "        800, 801, 802, 800, 801, 802, 800, 801, 802, 800, 801, 802, 800,\n",
       "        801, 802, 800, 801, 802, 800, 801, 802, 800, 801, 802, 800, 801,\n",
       "        802, 800, 801, 802, 800, 801, 802, 800, 801, 802, 800, 801, 802,\n",
       "        800, 801, 802, 800, 801, 802, 800, 801, 802, 800, 801, 802, 800,\n",
       "        801, 802, 800, 801, 802, 800, 801, 802, 800, 801, 802]),\n",
       " 'times': array([201., 201., 201., 202., 202., 202., 203., 203., 203., 204., 204.,\n",
       "        204., 205., 205., 205., 206., 206., 206., 207., 207., 207., 208.,\n",
       "        208., 208., 209., 209., 209., 210., 210., 210., 211., 211., 211.,\n",
       "        212., 212., 212., 213., 213., 213., 214., 214., 214., 215., 215.,\n",
       "        215., 216., 216., 216., 217., 217., 217., 218., 218., 218., 219.,\n",
       "        219., 219., 220., 220., 220., 221., 221., 221., 222., 222., 222.,\n",
       "        223., 223., 223., 224., 224., 224., 225., 225., 225., 226., 226.,\n",
       "        226., 227., 227., 227., 228., 228., 228., 229., 229., 229., 230.,\n",
       "        230., 230., 231., 231., 231., 232., 232., 232., 233., 233., 233.,\n",
       "        234., 234., 234., 235., 235., 235., 236., 236., 236., 237., 237.,\n",
       "        237., 238., 238., 238., 239., 239., 239., 240., 240., 240., 241.,\n",
       "        241., 241., 242., 242., 242., 243., 243., 243., 244., 244., 244.,\n",
       "        245., 245., 245., 246., 246., 246., 247., 247., 247., 248., 248.,\n",
       "        248., 249., 249., 249., 250., 250., 250., 251., 251., 251., 252.,\n",
       "        252., 252., 253., 253., 253., 254., 254., 254., 255., 255., 255.,\n",
       "        256., 256., 256., 257., 257., 257., 258., 258., 258., 259., 259.,\n",
       "        259., 260., 260., 260., 261., 261., 261., 262., 262., 262., 263.,\n",
       "        263., 263., 264., 264., 264., 265., 265., 265., 266., 266., 266.,\n",
       "        267., 267., 267., 268., 268., 268., 269., 269., 269., 270., 270.,\n",
       "        270., 271., 271., 271., 272., 272., 272., 273., 273., 273., 274.,\n",
       "        274., 274., 275., 275., 275., 276., 276., 276., 277., 277., 277.,\n",
       "        278., 278., 278., 279., 279., 279., 280., 280., 280., 281., 281.,\n",
       "        281., 282., 282., 282., 283., 283., 283., 284., 284., 284., 285.,\n",
       "        285., 285., 286., 286., 286., 287., 287., 287., 288., 288., 288.,\n",
       "        289., 289., 289., 290., 290., 290., 291., 291., 291., 292., 292.,\n",
       "        292., 293., 293., 293., 294., 294., 294., 295., 295., 295., 296.,\n",
       "        296., 296., 297., 297., 297., 298., 298., 298., 299., 299., 299.]),\n",
       " 'V_m': array([-62.00034549, -57.84813541, -64.0483421 , -62.00032864,\n",
       "        -57.66045963, -63.16811407, -62.00031261, -57.48193691,\n",
       "        -62.33081527, -62.00029736, -57.31212084, -61.53435201,\n",
       "        -62.00028286, -57.1505868 , -60.77673272, -62.00026906,\n",
       "        -56.99693087, -60.05606296, -62.00025594, -56.85076883,\n",
       "        -59.37054068, -62.00024346, -56.71173519, -58.71845172,\n",
       "        -62.00023159, -56.57948231, -58.09816551, -62.00022029,\n",
       "        -56.45367947, -57.50813102, -62.00020955, -56.33401211,\n",
       "        -56.94687284, -62.00019933, -56.220181  , -56.41298755,\n",
       "        -62.00018961, -56.11190149, -55.90514016, -62.00018036,\n",
       "        -56.00890284, -55.42206077, -62.00017156, -55.91092749,\n",
       "        -70.        , -62.0001632 , -55.81773046, -70.        ,\n",
       "        -62.00015524, -55.7290787 , -70.        , -62.00014767,\n",
       "        -55.64475053, -68.82950619, -62.00014046, -55.5645351 ,\n",
       "        -67.71609803, -62.00013361, -55.48823183, -66.65699143,\n",
       "        -62.0001271 , -55.4156499 , -65.64953807, -62.0001209 ,\n",
       "        -55.34660784, -64.69121879, -62.000115  , -55.280933  ,\n",
       "        -63.7796373 , -62.00010939, -55.21846116, -62.91251415,\n",
       "        -62.00010406, -55.15903611, -62.0876811 , -62.00009898,\n",
       "        -55.10250925, -61.30307564, -62.00009416, -55.04873924,\n",
       "        -60.55673583, -62.00008956, -70.        , -59.84679545,\n",
       "        -62.0000852 , -70.        , -59.17147927, -62.00008104,\n",
       "        -70.        , -58.52909864, -62.00007709, -69.21967079,\n",
       "        -57.91804729, -62.00007333, -68.47739869, -57.33679727,\n",
       "        -62.00006975, -67.77132762, -56.78389514, -62.00006635,\n",
       "        -67.09969205, -56.25795837, -62.00006311, -66.46081253,\n",
       "        -55.75767183, -62.00006004, -65.85309153, -55.28178456,\n",
       "        -62.00005711, -65.27500944, -70.        , -62.00005432,\n",
       "        -64.72512074, -70.        , -62.00005167, -64.20205043,\n",
       "        -69.64268655, -62.00004915, -63.70449056, -68.48961912,\n",
       "        -62.00004676, -63.23119697, -67.39278745, -62.00004448,\n",
       "        -62.78098618, -66.3494489 , -62.00004231, -62.35273243,\n",
       "        -65.35699456, -62.00004024, -61.94536486, -64.4129428 ,\n",
       "        -62.00003828, -61.55786484, -63.51493298, -62.00003641,\n",
       "        -61.18926343, -62.66071962, -62.00003464, -60.83863891,\n",
       "        -61.84816674, -62.00003295, -60.50511456, -61.07524252,\n",
       "        -62.00003134, -60.18785638, -60.34001427, -62.00002981,\n",
       "        -59.88607106, -59.64064352, -62.00002836, -59.59900399,\n",
       "        -58.97538149, -62.00002698, -59.32593734, -58.34256466,\n",
       "        -62.00002566, -59.06618831, -57.74061068, -62.00002441,\n",
       "        -58.81910739, -57.16801434, -62.00002322, -58.58407675,\n",
       "        -56.62334386, -62.00002209, -58.36050869, -56.10523726,\n",
       "        -62.00002101, -58.14784417, -55.61239903, -62.00001998,\n",
       "        -57.94555142, -55.14359679, -62.00001901, -57.75312461,\n",
       "        -70.        , -62.00001808, -57.57008256, -70.        ,\n",
       "        -62.0000172 , -57.39596758, -69.29069281, -62.00001636,\n",
       "        -57.23034429, -68.15479231, -62.00001556, -57.07279854,\n",
       "        -67.07429034, -62.0000148 , -56.92293638, -66.04648507,\n",
       "        -62.00001408, -56.7803831 , -65.06880646, -62.0000134 ,\n",
       "        -56.64478221, -64.13880979, -62.00001274, -56.51579466,\n",
       "        -63.2541696 , -62.00001212, -56.39309791, -62.41267382,\n",
       "        -62.00001153, -56.27638515, -61.61221827, -62.00001097,\n",
       "        -56.16536453, -60.8508014 , -62.00001043, -56.05975846,\n",
       "        -60.12651927, -62.00000992, -55.95930285, -59.4375608 ,\n",
       "        -62.00000944, -55.86374652, -58.78220322, -62.00000898,\n",
       "        -55.77285053, -58.15880782, -62.00000854, -55.68638759,\n",
       "        -57.56581576, -62.00000813, -55.6041415 , -57.00174427,\n",
       "        -62.00000773, -55.5259066 , -56.46518287, -62.00000735,\n",
       "        -55.45148725, -55.95478988, -62.00000699, -55.38069738,\n",
       "        -55.46928905, -62.00000665, -55.31335998, -55.00746637,\n",
       "        -62.00000633, -55.24930666, -70.        , -62.00000602,\n",
       "        -55.18837725, -70.        , -62.00000573, -55.13041941,\n",
       "        -68.94393956, -62.00000545, -55.0752882 , -67.82495043,\n",
       "        -62.00000518, -55.02284578, -66.76053503, -62.00000493,\n",
       "        -70.        , -65.74803179, -62.00000469, -70.        ,\n",
       "        -64.78490892, -62.00000446, -69.60495859, -63.8687581 ,\n",
       "        -62.00000424, -68.84389578, -62.99728848, -62.00000403,\n",
       "        -68.11995044, -62.16832094, -62.00000384, -67.43131233,\n",
       "        -61.37978262, -62.00000365, -66.7762595 , -60.62970178,\n",
       "        -62.00000347, -66.15315397, -59.9162028 , -62.0000033 ,\n",
       "        -65.56043766, -59.23750158, -62.00000314, -64.99662846,\n",
       "        -58.59190101, -62.00000299, -64.46031656, -57.97778675,\n",
       "        -62.00000284, -63.9501609 , -57.3936232 , -62.0000027 ,\n",
       "        -63.46488583, -56.83794964, -62.00000257, -63.0032779 ,\n",
       "        -56.3093766 ])}"
      ]
     },
     "execution_count": 65,
     "metadata": {},
     "output_type": "execute_result"
    }
   ],
   "source": [
    "multimeter.get(\"events\")[0]"
   ]
  },
  {
   "cell_type": "code",
   "execution_count": 67,
   "id": "eb29d311",
   "metadata": {},
   "outputs": [
    {
     "ename": "KeyError",
     "evalue": "'Events'",
     "output_type": "error",
     "traceback": [
      "\u001b[0;31m---------------------------------------------------------------------------\u001b[0m",
      "\u001b[0;31mNESTErrors.DictError\u001b[0m                      Traceback (most recent call last)",
      "\u001b[0;32m/usr/lib/python3.8/dist-packages/nest/lib/hl_api_helper.py\u001b[0m in \u001b[0;36mget_parameters\u001b[0;34m(nc, param)\u001b[0m\n\u001b[1;32m    541\u001b[0m         \u001b[0;32mtry\u001b[0m\u001b[0;34m:\u001b[0m\u001b[0;34m\u001b[0m\u001b[0;34m\u001b[0m\u001b[0m\n\u001b[0;32m--> 542\u001b[0;31m             \u001b[0msr\u001b[0m\u001b[0;34m(\u001b[0m\u001b[0mcmd\u001b[0m\u001b[0;34m)\u001b[0m\u001b[0;34m\u001b[0m\u001b[0;34m\u001b[0m\u001b[0m\n\u001b[0m\u001b[1;32m    543\u001b[0m             \u001b[0mresult\u001b[0m \u001b[0;34m=\u001b[0m \u001b[0mspp\u001b[0m\u001b[0;34m(\u001b[0m\u001b[0;34m)\u001b[0m\u001b[0;34m\u001b[0m\u001b[0;34m\u001b[0m\u001b[0m\n",
      "\u001b[0;32m/usr/lib/python3.8/dist-packages/nest/ll_api.py\u001b[0m in \u001b[0;36mcatching_sli_run\u001b[0;34m(cmd)\u001b[0m\n\u001b[1;32m    112\u001b[0m         \u001b[0mexceptionCls\u001b[0m \u001b[0;34m=\u001b[0m \u001b[0mgetattr\u001b[0m\u001b[0;34m(\u001b[0m\u001b[0mkernel\u001b[0m\u001b[0;34m.\u001b[0m\u001b[0mNESTErrors\u001b[0m\u001b[0;34m,\u001b[0m \u001b[0merrorname\u001b[0m\u001b[0;34m)\u001b[0m\u001b[0;34m\u001b[0m\u001b[0;34m\u001b[0m\u001b[0m\n\u001b[0;32m--> 113\u001b[0;31m         \u001b[0;32mraise\u001b[0m \u001b[0mexceptionCls\u001b[0m\u001b[0;34m(\u001b[0m\u001b[0mcommandname\u001b[0m\u001b[0;34m,\u001b[0m \u001b[0mmessage\u001b[0m\u001b[0;34m)\u001b[0m\u001b[0;34m\u001b[0m\u001b[0;34m\u001b[0m\u001b[0m\n\u001b[0m\u001b[1;32m    114\u001b[0m \u001b[0;34m\u001b[0m\u001b[0m\n",
      "\u001b[0;31mNESTErrors.DictError\u001b[0m: DictError in SLI function get_d: Key '/Events' does not exist in dictionary.",
      "\nDuring handling of the above exception, another exception occurred:\n",
      "\u001b[0;31mKeyError\u001b[0m                                  Traceback (most recent call last)",
      "\u001b[0;32m/tmp/ipykernel_321/2877828733.py\u001b[0m in \u001b[0;36m<module>\u001b[0;34m\u001b[0m\n\u001b[1;32m      1\u001b[0m \u001b[0mplt\u001b[0m\u001b[0;34m.\u001b[0m\u001b[0mfigure\u001b[0m\u001b[0;34m(\u001b[0m\u001b[0;36m1\u001b[0m\u001b[0;34m)\u001b[0m\u001b[0;34m\u001b[0m\u001b[0;34m\u001b[0m\u001b[0m\n\u001b[0;32m----> 2\u001b[0;31m \u001b[0mplt\u001b[0m\u001b[0;34m.\u001b[0m\u001b[0mplot\u001b[0m\u001b[0;34m(\u001b[0m\u001b[0mmultimeter\u001b[0m\u001b[0;34m.\u001b[0m\u001b[0mget\u001b[0m\u001b[0;34m(\u001b[0m\u001b[0;34m\"events\"\u001b[0m\u001b[0;34m)\u001b[0m\u001b[0;34m[\u001b[0m\u001b[0;36m0\u001b[0m\u001b[0;34m]\u001b[0m\u001b[0;34m[\u001b[0m\u001b[0;34m\"times\"\u001b[0m\u001b[0;34m]\u001b[0m\u001b[0;34m,\u001b[0m \u001b[0mmultimeter\u001b[0m\u001b[0;34m.\u001b[0m\u001b[0mget\u001b[0m\u001b[0;34m(\u001b[0m\u001b[0;34m\"Events\"\u001b[0m\u001b[0;34m)\u001b[0m\u001b[0;34m[\u001b[0m\u001b[0;36m1\u001b[0m\u001b[0;34m]\u001b[0m\u001b[0;34m[\u001b[0m\u001b[0;34m\"V_m\"\u001b[0m\u001b[0;34m]\u001b[0m\u001b[0;34m,\u001b[0m \u001b[0;34m\".\"\u001b[0m\u001b[0;34m)\u001b[0m\u001b[0;34m\u001b[0m\u001b[0;34m\u001b[0m\u001b[0m\n\u001b[0m\u001b[1;32m      3\u001b[0m \u001b[0mplt\u001b[0m\u001b[0;34m.\u001b[0m\u001b[0mfigure\u001b[0m\u001b[0;34m(\u001b[0m\u001b[0;36m2\u001b[0m\u001b[0;34m)\u001b[0m\u001b[0;34m\u001b[0m\u001b[0;34m\u001b[0m\u001b[0m\n\u001b[1;32m      4\u001b[0m \u001b[0mplt\u001b[0m\u001b[0;34m.\u001b[0m\u001b[0mplot\u001b[0m\u001b[0;34m(\u001b[0m\u001b[0mmultimeter\u001b[0m\u001b[0;34m.\u001b[0m\u001b[0mget\u001b[0m\u001b[0;34m(\u001b[0m\u001b[0;34m\"events\"\u001b[0m\u001b[0;34m)\u001b[0m\u001b[0;34m[\u001b[0m\u001b[0;36m1\u001b[0m\u001b[0;34m]\u001b[0m\u001b[0;34m[\u001b[0m\u001b[0;34m\"times\"\u001b[0m\u001b[0;34m]\u001b[0m\u001b[0;34m,\u001b[0m \u001b[0mmultimeter\u001b[0m\u001b[0;34m.\u001b[0m\u001b[0mget\u001b[0m\u001b[0;34m(\u001b[0m\u001b[0;34m\"Events\"\u001b[0m\u001b[0;34m)\u001b[0m\u001b[0;34m[\u001b[0m\u001b[0;36m1\u001b[0m\u001b[0;34m]\u001b[0m\u001b[0;34m[\u001b[0m\u001b[0;34m\"V_m\"\u001b[0m\u001b[0;34m]\u001b[0m\u001b[0;34m,\u001b[0m \u001b[0;34m\".\"\u001b[0m\u001b[0;34m)\u001b[0m\u001b[0;34m\u001b[0m\u001b[0;34m\u001b[0m\u001b[0m\n\u001b[1;32m      5\u001b[0m \u001b[0mplt\u001b[0m\u001b[0;34m.\u001b[0m\u001b[0mfigure\u001b[0m\u001b[0;34m(\u001b[0m\u001b[0;36m3\u001b[0m\u001b[0;34m)\u001b[0m\u001b[0;34m\u001b[0m\u001b[0;34m\u001b[0m\u001b[0m\n",
      "\u001b[0;32m/usr/lib/python3.8/dist-packages/nest/lib/hl_api_types.py\u001b[0m in \u001b[0;36mget\u001b[0;34m(self, *params, **kwargs)\u001b[0m\n\u001b[1;32m    392\u001b[0m         \u001b[0;32melif\u001b[0m \u001b[0mlen\u001b[0m\u001b[0;34m(\u001b[0m\u001b[0mparams\u001b[0m\u001b[0;34m)\u001b[0m \u001b[0;34m==\u001b[0m \u001b[0;36m1\u001b[0m\u001b[0;34m:\u001b[0m\u001b[0;34m\u001b[0m\u001b[0;34m\u001b[0m\u001b[0m\n\u001b[1;32m    393\u001b[0m             \u001b[0;31m# params is a tuple with a string or list of strings\u001b[0m\u001b[0;34m\u001b[0m\u001b[0;34m\u001b[0m\u001b[0m\n\u001b[0;32m--> 394\u001b[0;31m             \u001b[0mresult\u001b[0m \u001b[0;34m=\u001b[0m \u001b[0mget_parameters\u001b[0m\u001b[0;34m(\u001b[0m\u001b[0mself\u001b[0m\u001b[0;34m,\u001b[0m \u001b[0mparams\u001b[0m\u001b[0;34m[\u001b[0m\u001b[0;36m0\u001b[0m\u001b[0;34m]\u001b[0m\u001b[0;34m)\u001b[0m\u001b[0;34m\u001b[0m\u001b[0;34m\u001b[0m\u001b[0m\n\u001b[0m\u001b[1;32m    395\u001b[0m         \u001b[0;32melse\u001b[0m\u001b[0;34m:\u001b[0m\u001b[0;34m\u001b[0m\u001b[0;34m\u001b[0m\u001b[0m\n\u001b[1;32m    396\u001b[0m             \u001b[0;31m# Hierarchical addressing\u001b[0m\u001b[0;34m\u001b[0m\u001b[0;34m\u001b[0m\u001b[0m\n",
      "\u001b[0;32m/usr/lib/python3.8/dist-packages/nest/lib/hl_api_helper.py\u001b[0m in \u001b[0;36mget_parameters\u001b[0;34m(nc, param)\u001b[0m\n\u001b[1;32m    543\u001b[0m             \u001b[0mresult\u001b[0m \u001b[0;34m=\u001b[0m \u001b[0mspp\u001b[0m\u001b[0;34m(\u001b[0m\u001b[0;34m)\u001b[0m\u001b[0;34m\u001b[0m\u001b[0;34m\u001b[0m\u001b[0m\n\u001b[1;32m    544\u001b[0m         \u001b[0;32mexcept\u001b[0m \u001b[0mkernel\u001b[0m\u001b[0;34m.\u001b[0m\u001b[0mNESTError\u001b[0m\u001b[0;34m:\u001b[0m\u001b[0;34m\u001b[0m\u001b[0;34m\u001b[0m\u001b[0m\n\u001b[0;32m--> 545\u001b[0;31m             \u001b[0mresult\u001b[0m \u001b[0;34m=\u001b[0m \u001b[0mnc\u001b[0m\u001b[0;34m.\u001b[0m\u001b[0mget\u001b[0m\u001b[0;34m(\u001b[0m\u001b[0;34m)\u001b[0m\u001b[0;34m[\u001b[0m\u001b[0mparam\u001b[0m\u001b[0;34m]\u001b[0m  \u001b[0;31m# If the NodeCollection is a composite.\u001b[0m\u001b[0;34m\u001b[0m\u001b[0;34m\u001b[0m\u001b[0m\n\u001b[0m\u001b[1;32m    546\u001b[0m     \u001b[0;31m# param is array of strings\u001b[0m\u001b[0;34m\u001b[0m\u001b[0;34m\u001b[0m\u001b[0m\n\u001b[1;32m    547\u001b[0m     \u001b[0;32melif\u001b[0m \u001b[0mis_iterable\u001b[0m\u001b[0;34m(\u001b[0m\u001b[0mparam\u001b[0m\u001b[0;34m)\u001b[0m\u001b[0;34m:\u001b[0m\u001b[0;34m\u001b[0m\u001b[0;34m\u001b[0m\u001b[0m\n",
      "\u001b[0;31mKeyError\u001b[0m: 'Events'"
     ]
    },
    {
     "data": {
      "text/plain": [
       "<Figure size 432x288 with 0 Axes>"
      ]
     },
     "metadata": {},
     "output_type": "display_data"
    }
   ],
   "source": [
    "plt.figure(1)\n",
    "plt.plot(multimeter.get(\"events\")[0][\"times\"], multimeter.get(\"events\")[1][\"V_m\"], \".\")\n",
    "plt.figure(2)\n",
    "plt.plot(multimeter.get(\"events\")[1][\"times\"], multimeter.get(\"events\")[1][\"V_m\"], \".\")\n",
    "plt.figure(3)\n",
    "plt.plot(multimeter.get(\"events\")[2][\"times\"], multimeter.get(\"events\")[1][\"V_m\"], \".\")\n",
    "plt.show()"
   ]
  },
  {
   "cell_type": "code",
   "execution_count": 3,
   "id": "4f9c3077",
   "metadata": {},
   "outputs": [],
   "source": [
    "ndict = {\"I_e\": 200.0, \"tau_m\": 20.0}\n",
    "nest.SetDefaults(\"iaf_psc_alpha\", ndict)\n",
    "neuronpop1 = nest.Create(\"iaf_psc_alpha\", 100)\n",
    "neuronpop2 = nest.Create(\"iaf_psc_alpha\", 100)\n",
    "neuronpop3 = nest.Create(\"iaf_psc_alpha\", 100)"
   ]
  },
  {
   "cell_type": "code",
   "execution_count": 4,
   "id": "db186169",
   "metadata": {},
   "outputs": [],
   "source": [
    "edict = {\"I_e\": 200.0, \"tau_m\": 20.0}\n",
    "nest.CopyModel(\"iaf_psc_alpha\", \"exc_iaf_psc_alpha\")\n",
    "nest.SetDefaults(\"exc_iaf_psc_alpha\", edict)"
   ]
  },
  {
   "cell_type": "code",
   "execution_count": 5,
   "id": "3e9f5b67",
   "metadata": {},
   "outputs": [],
   "source": [
    "idict = {\"I_e\": 300.0}\n",
    "nest.CopyModel(\"iaf_psc_alpha\", \"inh_iaf_psc_alpha\", params=idict)"
   ]
  },
  {
   "cell_type": "code",
   "execution_count": 6,
   "id": "e11aea45",
   "metadata": {},
   "outputs": [],
   "source": [
    "epop1 = nest.Create(\"exc_iaf_psc_alpha\", 100)\n",
    "epop2 = nest.Create(\"exc_iaf_psc_alpha\", 100)\n",
    "ipop1 = nest.Create(\"inh_iaf_psc_alpha\", 30)\n",
    "ipop2 = nest.Create(\"inh_iaf_psc_alpha\", 30)"
   ]
  },
  {
   "cell_type": "code",
   "execution_count": 7,
   "id": "705ef839",
   "metadata": {},
   "outputs": [
    {
     "name": "stdout",
     "output_type": "stream",
     "text": [
      "{'I_e': (200.0, 150.0), 'tau_m': (20.0, 20.0), 'V_m': (-77.0, -66.0)}\n"
     ]
    }
   ],
   "source": [
    "parameter_dict = {\"I_e\": [200.0, 150.0], \"tau_m\": 20.0, \"V_m\": [-77.0, -66.0]}\n",
    "pop3 = nest.Create(\"iaf_psc_alpha\", 2, params=parameter_dict)\n",
    "\n",
    "print(pop3.get([\"I_e\", \"tau_m\", \"V_m\"]))"
   ]
  },
  {
   "cell_type": "code",
   "execution_count": 11,
   "id": "4b5daec3",
   "metadata": {},
   "outputs": [],
   "source": [
    "Vth=-55.\n",
    "Vrest=-70.\n",
    "dVms =  {\"V_m\": [Vrest+(Vth-Vrest)*numpy.random.rand() for x in range(len(epop1))]}\n",
    "epop1.set(dVms)"
   ]
  },
  {
   "cell_type": "code",
   "execution_count": 12,
   "id": "111fd744",
   "metadata": {},
   "outputs": [],
   "source": [
    "epop1.set({\"V_m\": Vrest + nest.random.uniform(0.0, Vth-Vrest)})\n"
   ]
  },
  {
   "cell_type": "code",
   "execution_count": 13,
   "id": "b7770023",
   "metadata": {},
   "outputs": [],
   "source": [
    "import nest\n",
    "pop1 = nest.Create(\"iaf_psc_alpha\", 10)\n",
    "pop1.set({\"I_e\": 376.0})\n",
    "pop2 = nest.Create(\"iaf_psc_alpha\", 10)\n",
    "multimeter = nest.Create(\"multimeter\", 10)\n",
    "multimeter.set({\"record_from\":[\"V_m\"]})"
   ]
  },
  {
   "cell_type": "code",
   "execution_count": 14,
   "id": "05085184",
   "metadata": {},
   "outputs": [],
   "source": [
    "nest.Connect(pop1, pop2, syn_spec={\"weight\":20.0})"
   ]
  },
  {
   "cell_type": "code",
   "execution_count": 15,
   "id": "0562d10d",
   "metadata": {},
   "outputs": [],
   "source": [
    "nest.Connect(pop1, pop2, \"one_to_one\", syn_spec={\"weight\":20.0, \"delay\":1.0})"
   ]
  },
  {
   "cell_type": "code",
   "execution_count": 16,
   "id": "3c930a08",
   "metadata": {},
   "outputs": [],
   "source": [
    "nest.Connect(multimeter, pop2)"
   ]
  },
  {
   "cell_type": "code",
   "execution_count": 26,
   "id": "927c1bd4",
   "metadata": {},
   "outputs": [
    {
     "data": {
      "text/plain": [
       "('ac_generator',\n",
       " 'aeif_cond_alpha',\n",
       " 'aeif_cond_alpha_multisynapse',\n",
       " 'aeif_cond_beta_multisynapse',\n",
       " 'aeif_cond_exp',\n",
       " 'aeif_psc_alpha',\n",
       " 'aeif_psc_delta',\n",
       " 'aeif_psc_delta_clopath',\n",
       " 'aeif_psc_exp',\n",
       " 'amat2_psc_exp',\n",
       " 'bernoulli_synapse',\n",
       " 'bernoulli_synapse_hpc',\n",
       " 'bernoulli_synapse_lbl',\n",
       " 'clopath_synapse',\n",
       " 'clopath_synapse_hpc',\n",
       " 'clopath_synapse_lbl',\n",
       " 'cont_delay_synapse',\n",
       " 'cont_delay_synapse_hpc',\n",
       " 'cont_delay_synapse_lbl',\n",
       " 'correlation_detector',\n",
       " 'correlomatrix_detector',\n",
       " 'correlospinmatrix_detector',\n",
       " 'dc_generator',\n",
       " 'diffusion_connection',\n",
       " 'diffusion_connection_lbl',\n",
       " 'erfc_neuron',\n",
       " 'exc_iaf_psc_alpha',\n",
       " 'gamma_sup_generator',\n",
       " 'gap_junction',\n",
       " 'gap_junction_lbl',\n",
       " 'gauss_rate_ipn',\n",
       " 'gif_cond_exp',\n",
       " 'gif_cond_exp_multisynapse',\n",
       " 'gif_pop_psc_exp',\n",
       " 'gif_psc_exp',\n",
       " 'gif_psc_exp_multisynapse',\n",
       " 'ginzburg_neuron',\n",
       " 'glif_cond',\n",
       " 'glif_psc',\n",
       " 'hh_cond_beta_gap_traub',\n",
       " 'hh_cond_exp_traub',\n",
       " 'hh_psc_alpha',\n",
       " 'hh_psc_alpha_clopath',\n",
       " 'hh_psc_alpha_gap',\n",
       " 'ht_neuron',\n",
       " 'ht_synapse',\n",
       " 'ht_synapse_hpc',\n",
       " 'ht_synapse_lbl',\n",
       " 'iaf_chs_2007',\n",
       " 'iaf_chxk_2008',\n",
       " 'iaf_cond_alpha',\n",
       " 'iaf_cond_alpha_mc',\n",
       " 'iaf_cond_beta',\n",
       " 'iaf_cond_exp',\n",
       " 'iaf_cond_exp_sfa_rr',\n",
       " 'iaf_psc_alpha',\n",
       " 'iaf_psc_alpha_canon',\n",
       " 'iaf_psc_alpha_multisynapse',\n",
       " 'iaf_psc_alpha_ps',\n",
       " 'iaf_psc_delta',\n",
       " 'iaf_psc_delta_ps',\n",
       " 'iaf_psc_exp',\n",
       " 'iaf_psc_exp_htum',\n",
       " 'iaf_psc_exp_multisynapse',\n",
       " 'iaf_psc_exp_ps',\n",
       " 'iaf_psc_exp_ps_lossless',\n",
       " 'inh_iaf_psc_alpha',\n",
       " 'inhomogeneous_poisson_generator',\n",
       " 'izhikevich',\n",
       " 'jonke_synapse',\n",
       " 'jonke_synapse_hpc',\n",
       " 'jonke_synapse_lbl',\n",
       " 'lin_rate_ipn',\n",
       " 'lin_rate_opn',\n",
       " 'mat2_psc_exp',\n",
       " 'mcculloch_pitts_neuron',\n",
       " 'mip_generator',\n",
       " 'multimeter',\n",
       " 'noise_generator',\n",
       " 'parrot_neuron',\n",
       " 'parrot_neuron_ps',\n",
       " 'poisson_generator',\n",
       " 'poisson_generator_ps',\n",
       " 'pp_cond_exp_mc_urbanczik',\n",
       " 'pp_pop_psc_delta',\n",
       " 'pp_psc_delta',\n",
       " 'ppd_sup_generator',\n",
       " 'pulsepacket_generator',\n",
       " 'quantal_stp_synapse',\n",
       " 'quantal_stp_synapse_hpc',\n",
       " 'quantal_stp_synapse_lbl',\n",
       " 'rate_connection_delayed',\n",
       " 'rate_connection_delayed_lbl',\n",
       " 'rate_connection_instantaneous',\n",
       " 'rate_connection_instantaneous_lbl',\n",
       " 'rate_transformer_gauss',\n",
       " 'rate_transformer_lin',\n",
       " 'rate_transformer_sigmoid',\n",
       " 'rate_transformer_sigmoid_gg_1998',\n",
       " 'rate_transformer_tanh',\n",
       " 'rate_transformer_threshold_lin',\n",
       " 'siegert_neuron',\n",
       " 'sigmoid_rate_gg_1998_ipn',\n",
       " 'sigmoid_rate_ipn',\n",
       " 'sinusoidal_gamma_generator',\n",
       " 'sinusoidal_poisson_generator',\n",
       " 'spike_dilutor',\n",
       " 'spike_generator',\n",
       " 'spike_recorder',\n",
       " 'spin_detector',\n",
       " 'static_synapse',\n",
       " 'static_synapse_hom_w',\n",
       " 'static_synapse_hom_w_hpc',\n",
       " 'static_synapse_hom_w_lbl',\n",
       " 'static_synapse_hpc',\n",
       " 'static_synapse_lbl',\n",
       " 'stdp_dopamine_synapse',\n",
       " 'stdp_dopamine_synapse_hpc',\n",
       " 'stdp_dopamine_synapse_lbl',\n",
       " 'stdp_facetshw_synapse_hom',\n",
       " 'stdp_facetshw_synapse_hom_hpc',\n",
       " 'stdp_facetshw_synapse_hom_lbl',\n",
       " 'stdp_nn_pre_centered_synapse',\n",
       " 'stdp_nn_pre_centered_synapse_hpc',\n",
       " 'stdp_nn_pre_centered_synapse_lbl',\n",
       " 'stdp_nn_restr_synapse',\n",
       " 'stdp_nn_restr_synapse_hpc',\n",
       " 'stdp_nn_restr_synapse_lbl',\n",
       " 'stdp_nn_symm_synapse',\n",
       " 'stdp_nn_symm_synapse_hpc',\n",
       " 'stdp_nn_symm_synapse_lbl',\n",
       " 'stdp_pl_synapse_hom',\n",
       " 'stdp_pl_synapse_hom_hpc',\n",
       " 'stdp_pl_synapse_hom_lbl',\n",
       " 'stdp_synapse',\n",
       " 'stdp_synapse_hom',\n",
       " 'stdp_synapse_hom_hpc',\n",
       " 'stdp_synapse_hom_lbl',\n",
       " 'stdp_synapse_hpc',\n",
       " 'stdp_synapse_lbl',\n",
       " 'stdp_triplet_synapse',\n",
       " 'stdp_triplet_synapse_hpc',\n",
       " 'stdp_triplet_synapse_lbl',\n",
       " 'step_current_generator',\n",
       " 'step_rate_generator',\n",
       " 'tanh_rate_ipn',\n",
       " 'tanh_rate_opn',\n",
       " 'threshold_lin_rate_ipn',\n",
       " 'threshold_lin_rate_opn',\n",
       " 'tsodyks2_synapse',\n",
       " 'tsodyks2_synapse_hpc',\n",
       " 'tsodyks2_synapse_lbl',\n",
       " 'tsodyks_synapse',\n",
       " 'tsodyks_synapse_hom',\n",
       " 'tsodyks_synapse_hom_hpc',\n",
       " 'tsodyks_synapse_hom_lbl',\n",
       " 'tsodyks_synapse_hpc',\n",
       " 'tsodyks_synapse_lbl',\n",
       " 'urbanczik_synapse',\n",
       " 'urbanczik_synapse_hpc',\n",
       " 'urbanczik_synapse_lbl',\n",
       " 'vogels_sprekeler_synapse',\n",
       " 'vogels_sprekeler_synapse_hpc',\n",
       " 'vogels_sprekeler_synapse_lbl',\n",
       " 'voltmeter',\n",
       " 'volume_transmitter',\n",
       " 'weight_recorder')"
      ]
     },
     "execution_count": 26,
     "metadata": {},
     "output_type": "execute_result"
    }
   ],
   "source": [
    "nest.Models()"
   ]
  },
  {
   "cell_type": "code",
   "execution_count": null,
   "id": "b646b2c1",
   "metadata": {},
   "outputs": [],
   "source": []
  }
 ],
 "metadata": {
  "kernelspec": {
   "display_name": "Python 3",
   "language": "python",
   "name": "python3"
  },
  "language_info": {
   "codemirror_mode": {
    "name": "ipython",
    "version": 3
   },
   "file_extension": ".py",
   "mimetype": "text/x-python",
   "name": "python",
   "nbconvert_exporter": "python",
   "pygments_lexer": "ipython3",
   "version": "3.9.7"
  }
 },
 "nbformat": 4,
 "nbformat_minor": 5
}
