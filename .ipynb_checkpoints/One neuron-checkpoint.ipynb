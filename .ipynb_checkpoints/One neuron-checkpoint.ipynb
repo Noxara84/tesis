{
 "cells": [
  {
   "cell_type": "code",
   "execution_count": 3,
   "id": "b3f22574",
   "metadata": {},
   "outputs": [],
   "source": [
    "import nest\n",
    "import nest.voltage_trace\n",
    "import matplotlib.pyplot as plt\n",
    "\n",
    "nest.set_verbosity(\"M_WARNING\")\n",
    "nest.ResetKernel()"
   ]
  },
  {
   "cell_type": "code",
   "execution_count": 4,
   "id": "6c870864",
   "metadata": {},
   "outputs": [],
   "source": [
    "neuron = nest.Create(\"iaf_psc_alpha\")\n",
    "voltmeter = nest.Create(\"voltmeter\")"
   ]
  },
  {
   "cell_type": "code",
   "execution_count": 5,
   "id": "540422e0",
   "metadata": {},
   "outputs": [],
   "source": [
    "neuron.I_e = 376.0"
   ]
  },
  {
   "cell_type": "code",
   "execution_count": 6,
   "id": "a6982989",
   "metadata": {},
   "outputs": [],
   "source": [
    "nest.Connect(voltmeter, neuron)"
   ]
  },
  {
   "cell_type": "code",
   "execution_count": null,
   "id": "b01c34d9",
   "metadata": {},
   "outputs": [],
   "source": []
  }
 ],
 "metadata": {
  "kernelspec": {
   "display_name": "Python 3",
   "language": "python",
   "name": "python3"
  },
  "language_info": {
   "codemirror_mode": {
    "name": "ipython",
    "version": 3
   },
   "file_extension": ".py",
   "mimetype": "text/x-python",
   "name": "python",
   "nbconvert_exporter": "python",
   "pygments_lexer": "ipython3",
   "version": "3.9.7"
  }
 },
 "nbformat": 4,
 "nbformat_minor": 5
}
