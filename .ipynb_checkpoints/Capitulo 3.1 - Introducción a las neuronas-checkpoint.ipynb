{
 "cells": [
  {
   "cell_type": "code",
   "execution_count": 17,
   "id": "37c1e670",
   "metadata": {},
   "outputs": [],
   "source": [
    "import matplotlib.pyplot as plt\n",
    "import nest\n",
    "neuron = nest.Create(\"iaf_psc_alpha\")"
   ]
  },
  {
   "cell_type": "code",
   "execution_count": 30,
   "id": "ef6a9391",
   "metadata": {},
   "outputs": [
    {
     "data": {
      "text/plain": [
       "{'archiver_length': 0,\n",
       " 'beta_Ca': 0.001,\n",
       " 'C_m': 250.0,\n",
       " 'Ca': 0.0,\n",
       " 'E_L': -70.0,\n",
       " 'element_type': 'neuron',\n",
       " 'frozen': False,\n",
       " 'global_id': 4,\n",
       " 'I_e': 375.0,\n",
       " 'local': True,\n",
       " 'model': 'iaf_psc_alpha',\n",
       " 'node_uses_wfr': False,\n",
       " 'post_trace': 0.0,\n",
       " 'recordables': ('I_syn_ex', 'I_syn_in', 'V_m'),\n",
       " 'synaptic_elements': {},\n",
       " 't_ref': 2.0,\n",
       " 't_spike': -1.0,\n",
       " 'tau_Ca': 10000.0,\n",
       " 'tau_m': 10.0,\n",
       " 'tau_minus': 20.0,\n",
       " 'tau_minus_triplet': 110.0,\n",
       " 'tau_syn_ex': 2.0,\n",
       " 'tau_syn_in': 2.0,\n",
       " 'thread': 0,\n",
       " 'thread_local_id': 3,\n",
       " 'V_m': -55.00068099894644,\n",
       " 'V_min': -inf,\n",
       " 'V_reset': -70.0,\n",
       " 'V_th': -55.0,\n",
       " 'vp': 0}"
      ]
     },
     "execution_count": 30,
     "metadata": {},
     "output_type": "execute_result"
    }
   ],
   "source": [
    "neuron.get()"
   ]
  },
  {
   "cell_type": "code",
   "execution_count": 19,
   "id": "c2aa9461",
   "metadata": {},
   "outputs": [
    {
     "data": {
      "text/plain": [
       "{'V_reset': -70.0, 'V_th': -55.0}"
      ]
     },
     "execution_count": 19,
     "metadata": {},
     "output_type": "execute_result"
    }
   ],
   "source": [
    "neuron.get(\"I_e\")\n",
    "neuron.get([\"V_reset\", \"V_th\"])"
   ]
  },
  {
   "cell_type": "code",
   "execution_count": 20,
   "id": "5c123d5f",
   "metadata": {},
   "outputs": [
    {
     "data": {
      "text/plain": [
       "0.0"
      ]
     },
     "execution_count": 20,
     "metadata": {},
     "output_type": "execute_result"
    }
   ],
   "source": [
    "neuron.I_e"
   ]
  },
  {
   "cell_type": "code",
   "execution_count": 21,
   "id": "4a8c46c6",
   "metadata": {},
   "outputs": [],
   "source": [
    "neuron.set(I_e=500.0)\n",
    "neuron.set({\"I_e\": 375})\n",
    "neuron.I_e = 375.0"
   ]
  },
  {
   "cell_type": "code",
   "execution_count": 22,
   "id": "541260c3",
   "metadata": {},
   "outputs": [],
   "source": [
    "multimeter = nest.Create(\"multimeter\")\n",
    "multimeter.set(record_from=[\"V_m\"])"
   ]
  },
  {
   "cell_type": "code",
   "execution_count": 23,
   "id": "b4aaa745",
   "metadata": {},
   "outputs": [],
   "source": [
    "spikerecorder = nest.Create(\"spike_recorder\")"
   ]
  },
  {
   "cell_type": "code",
   "execution_count": 24,
   "id": "0289a19f",
   "metadata": {},
   "outputs": [],
   "source": [
    "nest.Connect(multimeter, neuron)\n",
    "nest.Connect(neuron, spikerecorder)"
   ]
  },
  {
   "cell_type": "code",
   "execution_count": 25,
   "id": "3f248927",
   "metadata": {},
   "outputs": [
    {
     "name": "stdout",
     "output_type": "stream",
     "text": [
      "\n",
      "Mar 15 23:56:35 NodeManager::prepare_nodes [Info]: \n",
      "    Preparing 6 nodes for simulation.\n",
      "\n",
      "Mar 15 23:56:35 SimulationManager::start_updating_ [Info]: \n",
      "    Number of local nodes: 6\n",
      "    Simulation time (ms): 100\n",
      "    Number of OpenMP threads: 1\n",
      "    Number of MPI processes: 1\n",
      "\n",
      "Mar 15 23:56:35 SimulationManager::run [Info]: \n",
      "    Simulation finished.\n"
     ]
    }
   ],
   "source": [
    "nest.Simulate(100.0)"
   ]
  },
  {
   "cell_type": "code",
   "execution_count": 26,
   "id": "6d44d070",
   "metadata": {},
   "outputs": [
    {
     "data": {
      "text/plain": [
       "{'element_type': 'recorder',\n",
       " 'events': {'senders': array([4, 4, 4, 4, 4, 4, 4, 4, 4, 4, 4, 4, 4, 4, 4, 4, 4, 4, 4, 4, 4, 4,\n",
       "         4, 4, 4, 4, 4, 4, 4, 4, 4, 4, 4, 4, 4, 4, 4, 4, 4, 4, 4, 4, 4, 4,\n",
       "         4, 4, 4, 4, 4, 4, 4, 4, 4, 4, 4, 4, 4, 4, 4, 4, 4, 4, 4, 4, 4, 4,\n",
       "         4, 4, 4, 4, 4, 4, 4, 4, 4, 4, 4, 4, 4, 4, 4, 4, 4, 4, 4, 4, 4, 4,\n",
       "         4, 4, 4, 4, 4, 4, 4, 4, 4, 4, 4]),\n",
       "  'times': array([1201., 1202., 1203., 1204., 1205., 1206., 1207., 1208., 1209.,\n",
       "         1210., 1211., 1212., 1213., 1214., 1215., 1216., 1217., 1218.,\n",
       "         1219., 1220., 1221., 1222., 1223., 1224., 1225., 1226., 1227.,\n",
       "         1228., 1229., 1230., 1231., 1232., 1233., 1234., 1235., 1236.,\n",
       "         1237., 1238., 1239., 1240., 1241., 1242., 1243., 1244., 1245.,\n",
       "         1246., 1247., 1248., 1249., 1250., 1251., 1252., 1253., 1254.,\n",
       "         1255., 1256., 1257., 1258., 1259., 1260., 1261., 1262., 1263.,\n",
       "         1264., 1265., 1266., 1267., 1268., 1269., 1270., 1271., 1272.,\n",
       "         1273., 1274., 1275., 1276., 1277., 1278., 1279., 1280., 1281.,\n",
       "         1282., 1283., 1284., 1285., 1286., 1287., 1288., 1289., 1290.,\n",
       "         1291., 1292., 1293., 1294., 1295., 1296., 1297., 1298., 1299.]),\n",
       "  'V_m': array([-68.57256127, -67.2809613 , -66.11227331, -65.05480069,\n",
       "         -64.0979599 , -63.23217454, -62.44877956, -61.73993446,\n",
       "         -61.0985449 , -60.51819162, -59.99306626, -59.51791318,\n",
       "         -59.0879769 , -58.69895446, -58.3469524 , -58.02844777,\n",
       "         -57.74025286, -57.47948332, -57.24352929, -57.03002925,\n",
       "         -56.83684642, -56.66204738, -56.50388266, -56.3607693 ,\n",
       "         -56.23127498, -56.11410367, -56.00808269, -55.91215094,\n",
       "         -55.8253483 , -55.74680603, -55.67573804, -55.61143306,\n",
       "         -55.55324751, -55.50059905, -55.45296075, -55.40985584,\n",
       "         -55.3708529 , -55.33556158, -55.30362867, -55.27473458,\n",
       "         -55.24859013, -55.22493365, -55.20352839, -55.1841601 ,\n",
       "         -55.16663495, -55.15077754, -55.13642916, -55.12344621,\n",
       "         -55.11169875, -55.1010692 , -55.0914512 , -55.08274847,\n",
       "         -55.07487391, -55.06774871, -55.06130157, -55.05546796,\n",
       "         -55.05018948, -55.04541332, -55.04109167, -55.03718128,\n",
       "         -55.03364302, -55.03044146, -55.02754457, -55.02492336,\n",
       "         -55.02255159, -55.02040552, -55.01846368, -55.01670663,\n",
       "         -55.01511678, -55.01367823, -55.01237657, -55.01119879,\n",
       "         -55.01013308, -55.00916879, -55.00829627, -55.00750677,\n",
       "         -55.00679241, -55.00614602, -55.00556115, -55.00503194,\n",
       "         -55.00455309, -55.0041198 , -55.00372775, -55.00337301,\n",
       "         -55.00305203, -55.00276159, -55.00249879, -55.002261  ,\n",
       "         -55.00204583, -55.00185115, -55.00167499, -55.00151559,\n",
       "         -55.00137136, -55.00124086, -55.00112278, -55.00101593,\n",
       "         -55.00091925, -55.00083177, -55.00075262])},\n",
       " 'frozen': False,\n",
       " 'global_id': 5,\n",
       " 'interval': 1.0,\n",
       " 'label': '',\n",
       " 'local': True,\n",
       " 'model': 'multimeter',\n",
       " 'n_events': 99,\n",
       " 'node_uses_wfr': False,\n",
       " 'offset': 0.0,\n",
       " 'origin': 0.0,\n",
       " 'record_from': ('V_m',),\n",
       " 'record_to': 'memory',\n",
       " 'start': 0.0,\n",
       " 'stop': 1.7976931348623157e+308,\n",
       " 'thread': 0,\n",
       " 'thread_local_id': 4,\n",
       " 'time_in_steps': False,\n",
       " 'vp': 0}"
      ]
     },
     "execution_count": 26,
     "metadata": {},
     "output_type": "execute_result"
    }
   ],
   "source": [
    "multimeter.get()"
   ]
  },
  {
   "cell_type": "code",
   "execution_count": 27,
   "id": "56f5d36b",
   "metadata": {},
   "outputs": [],
   "source": [
    "dmm = multimeter.get()\n",
    "Vms = dmm[\"events\"][\"V_m\"]\n",
    "ts = dmm[\"events\"][\"times\"]"
   ]
  },
  {
   "cell_type": "code",
   "execution_count": 28,
   "id": "9be9d178",
   "metadata": {},
   "outputs": [
    {
     "data": {
      "text/plain": [
       "[<matplotlib.lines.Line2D at 0x7f5c1412b2e0>]"
      ]
     },
     "execution_count": 28,
     "metadata": {},
     "output_type": "execute_result"
    },
    {
     "data": {
      "image/png": "[encoded data removed]",
      "text/plain": [
       "<Figure size 432x288 with 1 Axes>"
      ]
     },
     "metadata": {
      "needs_background": "light"
     },
     "output_type": "display_data"
    }
   ],
   "source": [
    "import matplotlib.pyplot as plt\n",
    "plt.figure(1)\n",
    "plt.plot(ts, Vms)"
   ]
  },
  {
   "cell_type": "code",
   "execution_count": 29,
   "id": "00aed2eb",
   "metadata": {},
   "outputs": [
    {
     "data": {
      "image/png": "[encoded data removed]",
      "text/plain": [
       "<Figure size 432x288 with 1 Axes>"
      ]
     },
     "metadata": {
      "needs_background": "light"
     },
     "output_type": "display_data"
    }
   ],
   "source": [
    "dSD = spikerecorder.get(\"events\")\n",
    "evs = dSD[\"senders\"]\n",
    "ts = dSD[\"times\"]\n",
    "plt.figure(2)\n",
    "plt.plot(ts, evs, \".\")\n",
    "plt.show()"
   ]
  },
  {
   "cell_type": "code",
   "execution_count": null,
   "id": "96b5a47f",
   "metadata": {},
   "outputs": [],
   "source": []
  },
  {
   "cell_type": "code",
   "execution_count": null,
   "id": "f454d284",
   "metadata": {},
   "outputs": [],
   "source": []
  },
  {
   "cell_type": "code",
   "execution_count": null,
   "id": "934ae06c",
   "metadata": {},
   "outputs": [],
   "source": []
  }
 ],
 "metadata": {
  "kernelspec": {
   "display_name": "Python 3",
   "language": "python",
   "name": "python3"
  },
  "language_info": {
   "codemirror_mode": {
    "name": "ipython",
    "version": 3
   },
   "file_extension": ".py",
   "mimetype": "text/x-python",
   "name": "python",
   "nbconvert_exporter": "python",
   "pygments_lexer": "ipython3",
   "version": "3.9.7"
  }
 },
 "nbformat": 4,
 "nbformat_minor": 5
}
